{
 "cells": [
  {
   "cell_type": "code",
   "execution_count": 30,
   "id": "f85f3064",
   "metadata": {},
   "outputs": [],
   "source": [
    "import pandas as pd\n",
    "import numpy as np\n",
    "import matplotlib.pyplot as plt\n",
    "from half_normal_plotting import HalfNormPlot\n",
    "import statsmodels.api as sm\n",
    "import statsmodels.formula.api as smf"
   ]
  },
  {
   "cell_type": "markdown",
   "id": "cde28c72",
   "metadata": {},
   "source": [
    "### 1) \n",
    "- a. There is definitely one factor and that is the trajectory at which the artillery shell is being fired.  The type of target could be another factor differentiated by the target material, or it could be a block.  If the experiment is to see what kind of damage each shell/salvo of shells does to each type of target then it would be a factor level I think.  If the range facility only had those target types available or military protocol requires that all artillery tests evaluate efficacy against the designated target types then it would be a block.   \n",
    "- b. The possible treament combinations are as follows\n",
    "    \n",
    "| Target Type | Firing Angle |\n",
    "|:------------:|:--------------:|\n",
    "| Aluminum    | 45           |\n",
    "| Aluminum    | 60           |\n",
    "| Steel       | 45           |\n",
    "| Steel       | 60           |\n",
    "| Titanium    | 45           |\n",
    "| Titanium    | 60           |\n",
    "| Topsoil     | 45           |\n",
    "| Topsoil     | 60           |\n",
    "| Sand        | 45           |\n",
    "| Sand        | 60           |\n",
    "| Fuel Tank   | 45           |\n",
    "| Fuel Tank   | 60           |\n",
    "    \n",
    "- c. The experimental units can be two things in this experiment.  It could be that the experimental units will be single artillery shells fired against each target type or it could be that the experimental unit will be salvos of artillery fired against each target type.   "
   ]
  },
  {
   "cell_type": "markdown",
   "id": "578a283e",
   "metadata": {},
   "source": [
    "### 2) \n",
    "- a. To completely test all of the possible combinations you need $2 * 3 * 3 * 2 * 2 * 2$, or 144 test runs\n",
    "<br><br>\n",
    "- b. To determine how many test runs are used to calculate the average corrosion resistance for each of the factor levels we can use the formula $ \\frac{Test Runs}{\\# Factor Levels}$.  Each factor in this experiment only has 2 or three factor levels so the number of test runs for each factor will either be $\\frac{144}{2} = 72$ or $\\frac{144}{3}=48$ \n",
    "<br><br>\n",
    "\n",
    "    - Bed Temp: 2 factor levels, 72 test runs\n",
    "    - Tube Temp Below Bed: 3 factor levels, 48 test runs\n",
    "    - Particle Size: 3 factor levels, 48 test runs\n",
    "    - Environment: 2 factor levels, 72 test runs\n",
    "    - Particle Material: 2 factor levels, 72 test runs\n",
    "    - Tube Material: 2 factor levels, 72, test runs \n",
    " <br><br>\n",
    "- c. Assuming that the question is asking \"If we investigated each factor level independently in a one-at-a-time fashion using the same number of experimental runs for each factor level identified in part b, how many test runs would we have to run?\" We know that each factor level had 144 runs each in part b, so we can simply multiply 144 by the number of factors, 6, to get a total experiment size of 864 test runs.  Comparing the two scenarios we can see the benefit of leveraging the techniques we're going to learn in this course to reduce experimental cost and decrease time to insight."
   ]
  },
  {
   "cell_type": "markdown",
   "id": "9d4267d9",
   "metadata": {},
   "source": [
    "### 3)\n",
    "There are four factors and 48 test runs in a 2 x 4 x 3 x 2 factorial design."
   ]
  },
  {
   "cell_type": "markdown",
   "id": "87d0711d",
   "metadata": {},
   "source": [
    "### 4)\n",
    "The treatment design would be designated \"$3^4$\" and it will require 81 test runs for a complete replication. "
   ]
  },
  {
   "cell_type": "markdown",
   "id": "751c737a",
   "metadata": {},
   "source": [
    "### 5)"
   ]
  },
  {
   "cell_type": "code",
   "execution_count": 2,
   "id": "76b8b0f3",
   "metadata": {},
   "outputs": [
    {
     "data": {
      "text/html": [
       "<div>\n",
       "<style scoped>\n",
       "    .dataframe tbody tr th:only-of-type {\n",
       "        vertical-align: middle;\n",
       "    }\n",
       "\n",
       "    .dataframe tbody tr th {\n",
       "        vertical-align: top;\n",
       "    }\n",
       "\n",
       "    .dataframe thead th {\n",
       "        text-align: right;\n",
       "    }\n",
       "</style>\n",
       "<table border=\"1\" class=\"dataframe\">\n",
       "  <thead>\n",
       "    <tr style=\"text-align: right;\">\n",
       "      <th></th>\n",
       "      <th>data</th>\n",
       "      <th>labels</th>\n",
       "    </tr>\n",
       "  </thead>\n",
       "  <tbody>\n",
       "    <tr>\n",
       "      <th>0</th>\n",
       "      <td>23.0</td>\n",
       "      <td>23.0</td>\n",
       "    </tr>\n",
       "    <tr>\n",
       "      <th>1</th>\n",
       "      <td>-5.0</td>\n",
       "      <td>-5.0</td>\n",
       "    </tr>\n",
       "    <tr>\n",
       "      <th>2</th>\n",
       "      <td>1.5</td>\n",
       "      <td>1.5</td>\n",
       "    </tr>\n",
       "    <tr>\n",
       "      <th>3</th>\n",
       "      <td>1.5</td>\n",
       "      <td>1.5</td>\n",
       "    </tr>\n",
       "    <tr>\n",
       "      <th>4</th>\n",
       "      <td>10.0</td>\n",
       "      <td>10.0</td>\n",
       "    </tr>\n",
       "    <tr>\n",
       "      <th>5</th>\n",
       "      <td>0.0</td>\n",
       "      <td>0.0</td>\n",
       "    </tr>\n",
       "    <tr>\n",
       "      <th>6</th>\n",
       "      <td>0.5</td>\n",
       "      <td>0.5</td>\n",
       "    </tr>\n",
       "  </tbody>\n",
       "</table>\n",
       "</div>"
      ],
      "text/plain": [
       "   data labels\n",
       "0  23.0   23.0\n",
       "1  -5.0   -5.0\n",
       "2   1.5    1.5\n",
       "3   1.5    1.5\n",
       "4  10.0   10.0\n",
       "5   0.0    0.0\n",
       "6   0.5    0.5"
      ]
     },
     "execution_count": 2,
     "metadata": {},
     "output_type": "execute_result"
    }
   ],
   "source": [
    "#make the dataframe to feed the Half Normal class\n",
    "data = [23.0, -5.0, 1.5, 1.5, 10.0, 0.0, 0.5]\n",
    "labels = [str(x) for x in data]\n",
    "\n",
    "df = pd.DataFrame(data={'data':data, 'labels':labels})\n",
    "df"
   ]
  },
  {
   "cell_type": "code",
   "execution_count": 3,
   "id": "43ec33d2",
   "metadata": {},
   "outputs": [
    {
     "data": {
      "text/html": [
       "<div>\n",
       "<style scoped>\n",
       "    .dataframe tbody tr th:only-of-type {\n",
       "        vertical-align: middle;\n",
       "    }\n",
       "\n",
       "    .dataframe tbody tr th {\n",
       "        vertical-align: top;\n",
       "    }\n",
       "\n",
       "    .dataframe thead th {\n",
       "        text-align: right;\n",
       "    }\n",
       "</style>\n",
       "<table border=\"1\" class=\"dataframe\">\n",
       "  <thead>\n",
       "    <tr style=\"text-align: right;\">\n",
       "      <th></th>\n",
       "      <th>data</th>\n",
       "      <th>labels</th>\n",
       "      <th>abs_data</th>\n",
       "      <th>r_i</th>\n",
       "      <th>r_i*</th>\n",
       "      <th>p_i</th>\n",
       "      <th>v_i</th>\n",
       "    </tr>\n",
       "  </thead>\n",
       "  <tbody>\n",
       "    <tr>\n",
       "      <th>5</th>\n",
       "      <td>0.0</td>\n",
       "      <td>0.0</td>\n",
       "      <td>0.0</td>\n",
       "      <td>1.0</td>\n",
       "      <td>0.071429</td>\n",
       "      <td>0.535714</td>\n",
       "      <td>0.089642</td>\n",
       "    </tr>\n",
       "    <tr>\n",
       "      <th>6</th>\n",
       "      <td>0.5</td>\n",
       "      <td>0.5</td>\n",
       "      <td>0.5</td>\n",
       "      <td>2.0</td>\n",
       "      <td>0.214286</td>\n",
       "      <td>0.607143</td>\n",
       "      <td>0.271880</td>\n",
       "    </tr>\n",
       "    <tr>\n",
       "      <th>2</th>\n",
       "      <td>1.5</td>\n",
       "      <td>1.5</td>\n",
       "      <td>1.5</td>\n",
       "      <td>3.5</td>\n",
       "      <td>0.428571</td>\n",
       "      <td>0.714286</td>\n",
       "      <td>0.565949</td>\n",
       "    </tr>\n",
       "    <tr>\n",
       "      <th>3</th>\n",
       "      <td>1.5</td>\n",
       "      <td>1.5</td>\n",
       "      <td>1.5</td>\n",
       "      <td>3.5</td>\n",
       "      <td>0.428571</td>\n",
       "      <td>0.714286</td>\n",
       "      <td>0.565949</td>\n",
       "    </tr>\n",
       "    <tr>\n",
       "      <th>1</th>\n",
       "      <td>-5.0</td>\n",
       "      <td>-5.0</td>\n",
       "      <td>5.0</td>\n",
       "      <td>5.0</td>\n",
       "      <td>0.642857</td>\n",
       "      <td>0.821429</td>\n",
       "      <td>0.920823</td>\n",
       "    </tr>\n",
       "    <tr>\n",
       "      <th>4</th>\n",
       "      <td>10.0</td>\n",
       "      <td>10.0</td>\n",
       "      <td>10.0</td>\n",
       "      <td>6.0</td>\n",
       "      <td>0.785714</td>\n",
       "      <td>0.892857</td>\n",
       "      <td>1.241867</td>\n",
       "    </tr>\n",
       "    <tr>\n",
       "      <th>0</th>\n",
       "      <td>23.0</td>\n",
       "      <td>23.0</td>\n",
       "      <td>23.0</td>\n",
       "      <td>7.0</td>\n",
       "      <td>0.928571</td>\n",
       "      <td>0.964286</td>\n",
       "      <td>1.802743</td>\n",
       "    </tr>\n",
       "  </tbody>\n",
       "</table>\n",
       "</div>"
      ],
      "text/plain": [
       "   data labels  abs_data  r_i      r_i*       p_i       v_i\n",
       "5   0.0    0.0       0.0  1.0  0.071429  0.535714  0.089642\n",
       "6   0.5    0.5       0.5  2.0  0.214286  0.607143  0.271880\n",
       "2   1.5    1.5       1.5  3.5  0.428571  0.714286  0.565949\n",
       "3   1.5    1.5       1.5  3.5  0.428571  0.714286  0.565949\n",
       "1  -5.0   -5.0       5.0  5.0  0.642857  0.821429  0.920823\n",
       "4  10.0   10.0      10.0  6.0  0.785714  0.892857  1.241867\n",
       "0  23.0   23.0      23.0  7.0  0.928571  0.964286  1.802743"
      ]
     },
     "execution_count": 3,
     "metadata": {},
     "output_type": "execute_result"
    }
   ],
   "source": [
    "#instantiate the Half Normal class and show the columns calculated\n",
    "half_norm = HalfNormPlot(data=df, data_col='data', label_col='label')\n",
    "half_norm.half_norm_data"
   ]
  },
  {
   "cell_type": "code",
   "execution_count": 4,
   "id": "716d0715",
   "metadata": {},
   "outputs": [
    {
     "data": {
      "text/plain": [
       "<AxesSubplot: title={'center': 'Half Normal Plot Question 5'}, xlabel='abs_data', ylabel='V_i'>"
      ]
     },
     "execution_count": 4,
     "metadata": {},
     "output_type": "execute_result"
    },
    {
     "data": {
      "image/png": "[encoded data removed]",
      "text/plain": [
       "<Figure size 800x800 with 1 Axes>"
      ]
     },
     "metadata": {},
     "output_type": "display_data"
    }
   ],
   "source": [
    "#create the half normal plot\n",
    "half_norm.plot_half_norm(title=\"Half Normal Plot Question 5\", data_percent=.8)"
   ]
  },
  {
   "cell_type": "markdown",
   "id": "a5c05766",
   "metadata": {},
   "source": [
    "### 6) "
   ]
  },
  {
   "cell_type": "code",
   "execution_count": 5,
   "id": "ecce47cc",
   "metadata": {},
   "outputs": [
    {
     "data": {
      "text/html": [
       "<div>\n",
       "<style scoped>\n",
       "    .dataframe tbody tr th:only-of-type {\n",
       "        vertical-align: middle;\n",
       "    }\n",
       "\n",
       "    .dataframe tbody tr th {\n",
       "        vertical-align: top;\n",
       "    }\n",
       "\n",
       "    .dataframe thead th {\n",
       "        text-align: right;\n",
       "    }\n",
       "</style>\n",
       "<table border=\"1\" class=\"dataframe\">\n",
       "  <thead>\n",
       "    <tr style=\"text-align: right;\">\n",
       "      <th></th>\n",
       "      <th>data</th>\n",
       "      <th>label</th>\n",
       "    </tr>\n",
       "  </thead>\n",
       "  <tbody>\n",
       "    <tr>\n",
       "      <th>0</th>\n",
       "      <td>38.7</td>\n",
       "      <td>38.7</td>\n",
       "    </tr>\n",
       "    <tr>\n",
       "      <th>1</th>\n",
       "      <td>4.0</td>\n",
       "      <td>4.0</td>\n",
       "    </tr>\n",
       "    <tr>\n",
       "      <th>2</th>\n",
       "      <td>-54.6</td>\n",
       "      <td>-54.6</td>\n",
       "    </tr>\n",
       "    <tr>\n",
       "      <th>3</th>\n",
       "      <td>20.8</td>\n",
       "      <td>20.8</td>\n",
       "    </tr>\n",
       "    <tr>\n",
       "      <th>4</th>\n",
       "      <td>-13.3</td>\n",
       "      <td>-13.3</td>\n",
       "    </tr>\n",
       "    <tr>\n",
       "      <th>5</th>\n",
       "      <td>3.1</td>\n",
       "      <td>3.1</td>\n",
       "    </tr>\n",
       "    <tr>\n",
       "      <th>6</th>\n",
       "      <td>55.9</td>\n",
       "      <td>55.9</td>\n",
       "    </tr>\n",
       "    <tr>\n",
       "      <th>7</th>\n",
       "      <td>-26.0</td>\n",
       "      <td>-26.0</td>\n",
       "    </tr>\n",
       "    <tr>\n",
       "      <th>8</th>\n",
       "      <td>-13.9</td>\n",
       "      <td>-13.9</td>\n",
       "    </tr>\n",
       "    <tr>\n",
       "      <th>9</th>\n",
       "      <td>-39.3</td>\n",
       "      <td>-39.3</td>\n",
       "    </tr>\n",
       "    <tr>\n",
       "      <th>10</th>\n",
       "      <td>1.1</td>\n",
       "      <td>1.1</td>\n",
       "    </tr>\n",
       "    <tr>\n",
       "      <th>11</th>\n",
       "      <td>37.9</td>\n",
       "      <td>37.9</td>\n",
       "    </tr>\n",
       "    <tr>\n",
       "      <th>12</th>\n",
       "      <td>28.2</td>\n",
       "      <td>28.2</td>\n",
       "    </tr>\n",
       "    <tr>\n",
       "      <th>13</th>\n",
       "      <td>3.1</td>\n",
       "      <td>3.1</td>\n",
       "    </tr>\n",
       "    <tr>\n",
       "      <th>14</th>\n",
       "      <td>15.0</td>\n",
       "      <td>15.0</td>\n",
       "    </tr>\n",
       "  </tbody>\n",
       "</table>\n",
       "</div>"
      ],
      "text/plain": [
       "    data  label\n",
       "0   38.7   38.7\n",
       "1    4.0    4.0\n",
       "2  -54.6  -54.6\n",
       "3   20.8   20.8\n",
       "4  -13.3  -13.3\n",
       "5    3.1    3.1\n",
       "6   55.9   55.9\n",
       "7  -26.0  -26.0\n",
       "8  -13.9  -13.9\n",
       "9  -39.3  -39.3\n",
       "10   1.1    1.1\n",
       "11  37.9   37.9\n",
       "12  28.2   28.2\n",
       "13   3.1    3.1\n",
       "14  15.0   15.0"
      ]
     },
     "execution_count": 5,
     "metadata": {},
     "output_type": "execute_result"
    }
   ],
   "source": [
    "#make data list and label list, turn into df\n",
    "data = [38.7, 4.0, -54.6, 20.8, -13.3, 3.1, 55.9, -26.0, -13.9, -39.3, 1.1, 37.9, 28.2, 3.1, 15.0]\n",
    "labels = [str(x) for x in data]\n",
    "\n",
    "df = pd.DataFrame(data={'data':data, 'label':labels})\n",
    "df"
   ]
  },
  {
   "cell_type": "code",
   "execution_count": 6,
   "id": "cffb2f50",
   "metadata": {},
   "outputs": [
    {
     "data": {
      "text/html": [
       "<div>\n",
       "<style scoped>\n",
       "    .dataframe tbody tr th:only-of-type {\n",
       "        vertical-align: middle;\n",
       "    }\n",
       "\n",
       "    .dataframe tbody tr th {\n",
       "        vertical-align: top;\n",
       "    }\n",
       "\n",
       "    .dataframe thead th {\n",
       "        text-align: right;\n",
       "    }\n",
       "</style>\n",
       "<table border=\"1\" class=\"dataframe\">\n",
       "  <thead>\n",
       "    <tr style=\"text-align: right;\">\n",
       "      <th></th>\n",
       "      <th>data</th>\n",
       "      <th>label</th>\n",
       "      <th>abs_data</th>\n",
       "      <th>r_i</th>\n",
       "      <th>r_i*</th>\n",
       "      <th>p_i</th>\n",
       "      <th>v_i</th>\n",
       "    </tr>\n",
       "  </thead>\n",
       "  <tbody>\n",
       "    <tr>\n",
       "      <th>10</th>\n",
       "      <td>1.1</td>\n",
       "      <td>1.1</td>\n",
       "      <td>1.1</td>\n",
       "      <td>1.0</td>\n",
       "      <td>0.033333</td>\n",
       "      <td>0.516667</td>\n",
       "      <td>0.041789</td>\n",
       "    </tr>\n",
       "    <tr>\n",
       "      <th>5</th>\n",
       "      <td>3.1</td>\n",
       "      <td>3.1</td>\n",
       "      <td>3.1</td>\n",
       "      <td>2.5</td>\n",
       "      <td>0.133333</td>\n",
       "      <td>0.566667</td>\n",
       "      <td>0.167894</td>\n",
       "    </tr>\n",
       "    <tr>\n",
       "      <th>13</th>\n",
       "      <td>3.1</td>\n",
       "      <td>3.1</td>\n",
       "      <td>3.1</td>\n",
       "      <td>2.5</td>\n",
       "      <td>0.133333</td>\n",
       "      <td>0.566667</td>\n",
       "      <td>0.167894</td>\n",
       "    </tr>\n",
       "    <tr>\n",
       "      <th>1</th>\n",
       "      <td>4.0</td>\n",
       "      <td>4.0</td>\n",
       "      <td>4.0</td>\n",
       "      <td>4.0</td>\n",
       "      <td>0.233333</td>\n",
       "      <td>0.616667</td>\n",
       "      <td>0.296738</td>\n",
       "    </tr>\n",
       "    <tr>\n",
       "      <th>4</th>\n",
       "      <td>-13.3</td>\n",
       "      <td>-13.3</td>\n",
       "      <td>13.3</td>\n",
       "      <td>5.0</td>\n",
       "      <td>0.300000</td>\n",
       "      <td>0.650000</td>\n",
       "      <td>0.385320</td>\n",
       "    </tr>\n",
       "    <tr>\n",
       "      <th>8</th>\n",
       "      <td>-13.9</td>\n",
       "      <td>-13.9</td>\n",
       "      <td>13.9</td>\n",
       "      <td>6.0</td>\n",
       "      <td>0.366667</td>\n",
       "      <td>0.683333</td>\n",
       "      <td>0.477040</td>\n",
       "    </tr>\n",
       "    <tr>\n",
       "      <th>14</th>\n",
       "      <td>15.0</td>\n",
       "      <td>15.0</td>\n",
       "      <td>15.0</td>\n",
       "      <td>7.0</td>\n",
       "      <td>0.433333</td>\n",
       "      <td>0.716667</td>\n",
       "      <td>0.572968</td>\n",
       "    </tr>\n",
       "    <tr>\n",
       "      <th>3</th>\n",
       "      <td>20.8</td>\n",
       "      <td>20.8</td>\n",
       "      <td>20.8</td>\n",
       "      <td>8.0</td>\n",
       "      <td>0.500000</td>\n",
       "      <td>0.750000</td>\n",
       "      <td>0.674490</td>\n",
       "    </tr>\n",
       "    <tr>\n",
       "      <th>7</th>\n",
       "      <td>-26.0</td>\n",
       "      <td>-26.0</td>\n",
       "      <td>26.0</td>\n",
       "      <td>9.0</td>\n",
       "      <td>0.566667</td>\n",
       "      <td>0.783333</td>\n",
       "      <td>0.783500</td>\n",
       "    </tr>\n",
       "    <tr>\n",
       "      <th>12</th>\n",
       "      <td>28.2</td>\n",
       "      <td>28.2</td>\n",
       "      <td>28.2</td>\n",
       "      <td>10.0</td>\n",
       "      <td>0.633333</td>\n",
       "      <td>0.816667</td>\n",
       "      <td>0.902735</td>\n",
       "    </tr>\n",
       "    <tr>\n",
       "      <th>11</th>\n",
       "      <td>37.9</td>\n",
       "      <td>37.9</td>\n",
       "      <td>37.9</td>\n",
       "      <td>11.0</td>\n",
       "      <td>0.700000</td>\n",
       "      <td>0.850000</td>\n",
       "      <td>1.036433</td>\n",
       "    </tr>\n",
       "    <tr>\n",
       "      <th>0</th>\n",
       "      <td>38.7</td>\n",
       "      <td>38.7</td>\n",
       "      <td>38.7</td>\n",
       "      <td>12.0</td>\n",
       "      <td>0.766667</td>\n",
       "      <td>0.883333</td>\n",
       "      <td>1.191816</td>\n",
       "    </tr>\n",
       "    <tr>\n",
       "      <th>9</th>\n",
       "      <td>-39.3</td>\n",
       "      <td>-39.3</td>\n",
       "      <td>39.3</td>\n",
       "      <td>13.0</td>\n",
       "      <td>0.833333</td>\n",
       "      <td>0.916667</td>\n",
       "      <td>1.382994</td>\n",
       "    </tr>\n",
       "    <tr>\n",
       "      <th>2</th>\n",
       "      <td>-54.6</td>\n",
       "      <td>-54.6</td>\n",
       "      <td>54.6</td>\n",
       "      <td>14.0</td>\n",
       "      <td>0.900000</td>\n",
       "      <td>0.950000</td>\n",
       "      <td>1.644854</td>\n",
       "    </tr>\n",
       "    <tr>\n",
       "      <th>6</th>\n",
       "      <td>55.9</td>\n",
       "      <td>55.9</td>\n",
       "      <td>55.9</td>\n",
       "      <td>15.0</td>\n",
       "      <td>0.966667</td>\n",
       "      <td>0.983333</td>\n",
       "      <td>2.128045</td>\n",
       "    </tr>\n",
       "  </tbody>\n",
       "</table>\n",
       "</div>"
      ],
      "text/plain": [
       "    data  label  abs_data   r_i      r_i*       p_i       v_i\n",
       "10   1.1    1.1       1.1   1.0  0.033333  0.516667  0.041789\n",
       "5    3.1    3.1       3.1   2.5  0.133333  0.566667  0.167894\n",
       "13   3.1    3.1       3.1   2.5  0.133333  0.566667  0.167894\n",
       "1    4.0    4.0       4.0   4.0  0.233333  0.616667  0.296738\n",
       "4  -13.3  -13.3      13.3   5.0  0.300000  0.650000  0.385320\n",
       "8  -13.9  -13.9      13.9   6.0  0.366667  0.683333  0.477040\n",
       "14  15.0   15.0      15.0   7.0  0.433333  0.716667  0.572968\n",
       "3   20.8   20.8      20.8   8.0  0.500000  0.750000  0.674490\n",
       "7  -26.0  -26.0      26.0   9.0  0.566667  0.783333  0.783500\n",
       "12  28.2   28.2      28.2  10.0  0.633333  0.816667  0.902735\n",
       "11  37.9   37.9      37.9  11.0  0.700000  0.850000  1.036433\n",
       "0   38.7   38.7      38.7  12.0  0.766667  0.883333  1.191816\n",
       "9  -39.3  -39.3      39.3  13.0  0.833333  0.916667  1.382994\n",
       "2  -54.6  -54.6      54.6  14.0  0.900000  0.950000  1.644854\n",
       "6   55.9   55.9      55.9  15.0  0.966667  0.983333  2.128045"
      ]
     },
     "execution_count": 6,
     "metadata": {},
     "output_type": "execute_result"
    }
   ],
   "source": [
    "#instantate new Half Normal class and populate the table\n",
    "half_norm2 = HalfNormPlot(data=df, data_col='data', label_col='label')\n",
    "half_norm2.half_norm_data"
   ]
  },
  {
   "cell_type": "code",
   "execution_count": 7,
   "id": "81515e5d",
   "metadata": {},
   "outputs": [
    {
     "data": {
      "text/plain": [
       "<AxesSubplot: title={'center': 'Half Normal Plot Question 6'}, xlabel='abs_data', ylabel='V_i'>"
      ]
     },
     "execution_count": 7,
     "metadata": {},
     "output_type": "execute_result"
    },
    {
     "data": {
      "image/png": "[encoded data removed]",
      "text/plain": [
       "<Figure size 800x800 with 1 Axes>"
      ]
     },
     "metadata": {},
     "output_type": "display_data"
    }
   ],
   "source": [
    "half_norm2.plot_half_norm(title=\"Half Normal Plot Question 6\", data_percent=1)"
   ]
  },
  {
   "cell_type": "markdown",
   "id": "7b22f474",
   "metadata": {},
   "source": [
    "### 7) \n",
    "Using the half normal plot created above we can get two different estimates of sigma, one we can get by taking the absolute value of X whose V_i is closest to one, and the other we can get by calculating a regression line through all the points and taking the slope as the estimate of sigma."
   ]
  },
  {
   "cell_type": "code",
   "execution_count": 8,
   "id": "c402659f",
   "metadata": {},
   "outputs": [
    {
     "data": {
      "text/plain": [
       "37.9"
      ]
     },
     "execution_count": 8,
     "metadata": {},
     "output_type": "execute_result"
    }
   ],
   "source": [
    "#use class method to get estimate of sigma closest to one\n",
    "half_norm2.sigma_closest_to_one()"
   ]
  },
  {
   "cell_type": "code",
   "execution_count": 9,
   "id": "9e48022d",
   "metadata": {},
   "outputs": [
    {
     "data": {
      "text/plain": [
       "27.914162202401794"
      ]
     },
     "execution_count": 9,
     "metadata": {},
     "output_type": "execute_result"
    }
   ],
   "source": [
    "#use regression method to get estimate of sigma hat\n",
    "half_norm2.sigma_from_regression()"
   ]
  },
  {
   "cell_type": "markdown",
   "id": "b63b2d0b",
   "metadata": {},
   "source": [
    "The estimate of sigma using the absolute value of X_i whose value of V_i is closest to one is 37.9, and the estimate of sigma using the slope of a regression line fitted to all points is 27.9."
   ]
  },
  {
   "cell_type": "markdown",
   "id": "a5bdb79d",
   "metadata": {},
   "source": [
    "### 8)\n",
    "The sample standard deviation of numbers in question six is:"
   ]
  },
  {
   "cell_type": "code",
   "execution_count": 10,
   "id": "b72907cb",
   "metadata": {},
   "outputs": [
    {
     "data": {
      "text/plain": [
       "30.324833450647738"
      ]
     },
     "execution_count": 10,
     "metadata": {},
     "output_type": "execute_result"
    }
   ],
   "source": [
    "df.data.std()"
   ]
  },
  {
   "cell_type": "markdown",
   "id": "df5af99c",
   "metadata": {},
   "source": [
    "### 9) "
   ]
  },
  {
   "cell_type": "code",
   "execution_count": 39,
   "id": "5dd851a6",
   "metadata": {},
   "outputs": [
    {
     "data": {
      "text/html": [
       "<div>\n",
       "<style scoped>\n",
       "    .dataframe tbody tr th:only-of-type {\n",
       "        vertical-align: middle;\n",
       "    }\n",
       "\n",
       "    .dataframe tbody tr th {\n",
       "        vertical-align: top;\n",
       "    }\n",
       "\n",
       "    .dataframe thead th {\n",
       "        text-align: right;\n",
       "    }\n",
       "</style>\n",
       "<table border=\"1\" class=\"dataframe\">\n",
       "  <thead>\n",
       "    <tr style=\"text-align: right;\">\n",
       "      <th></th>\n",
       "      <th>water</th>\n",
       "      <th>surfactant</th>\n",
       "      <th>water x surfactant</th>\n",
       "      <th>volume</th>\n",
       "    </tr>\n",
       "  </thead>\n",
       "  <tbody>\n",
       "    <tr>\n",
       "      <th>0</th>\n",
       "      <td>75</td>\n",
       "      <td>0.03</td>\n",
       "      <td>2.25</td>\n",
       "      <td>7.5</td>\n",
       "    </tr>\n",
       "    <tr>\n",
       "      <th>2</th>\n",
       "      <td>75</td>\n",
       "      <td>0.06</td>\n",
       "      <td>4.50</td>\n",
       "      <td>9.6</td>\n",
       "    </tr>\n",
       "    <tr>\n",
       "      <th>1</th>\n",
       "      <td>125</td>\n",
       "      <td>0.03</td>\n",
       "      <td>3.75</td>\n",
       "      <td>6.4</td>\n",
       "    </tr>\n",
       "    <tr>\n",
       "      <th>3</th>\n",
       "      <td>125</td>\n",
       "      <td>0.06</td>\n",
       "      <td>7.50</td>\n",
       "      <td>8.3</td>\n",
       "    </tr>\n",
       "  </tbody>\n",
       "</table>\n",
       "</div>"
      ],
      "text/plain": [
       "   water  surfactant  water x surfactant  volume\n",
       "0     75        0.03                2.25     7.5\n",
       "2     75        0.06                4.50     9.6\n",
       "1    125        0.03                3.75     6.4\n",
       "3    125        0.06                7.50     8.3"
      ]
     },
     "execution_count": 39,
     "metadata": {},
     "output_type": "execute_result"
    }
   ],
   "source": [
    "data = [\n",
    "(75, .03, 7.5),\n",
    "(125, .03, 6.4), \n",
    "(75, .06, 9.6),\n",
    "(125, .06, 8.3)\n",
    "]\n",
    "\n",
    "df = pd.DataFrame(data=data, columns=['water', 'surfactant', 'volume'])\n",
    "df['water x surfactant'] = df.water * df.surfactant\n",
    "df = df.sort_values(by=['water','surfactant','water x surfactant'])\n",
    "df = df[['water','surfactant','water x surfactant','volume']]\n",
    "df"
   ]
  },
  {
   "cell_type": "code",
   "execution_count": 40,
   "id": "0def2675",
   "metadata": {},
   "outputs": [
    {
     "data": {
      "text/html": [
       "<div>\n",
       "<style scoped>\n",
       "    .dataframe tbody tr th:only-of-type {\n",
       "        vertical-align: middle;\n",
       "    }\n",
       "\n",
       "    .dataframe tbody tr th {\n",
       "        vertical-align: top;\n",
       "    }\n",
       "\n",
       "    .dataframe thead th {\n",
       "        text-align: right;\n",
       "    }\n",
       "</style>\n",
       "<table border=\"1\" class=\"dataframe\">\n",
       "  <thead>\n",
       "    <tr style=\"text-align: right;\">\n",
       "      <th></th>\n",
       "      <th>water</th>\n",
       "      <th>surfactant</th>\n",
       "      <th>water x surfactant</th>\n",
       "      <th>volume</th>\n",
       "      <th>water H/L</th>\n",
       "      <th>surfactant H/L</th>\n",
       "      <th>water x surfactant H/L</th>\n",
       "    </tr>\n",
       "  </thead>\n",
       "  <tbody>\n",
       "    <tr>\n",
       "      <th>0</th>\n",
       "      <td>75</td>\n",
       "      <td>0.03</td>\n",
       "      <td>2.25</td>\n",
       "      <td>7.5</td>\n",
       "      <td>-1</td>\n",
       "      <td>-1</td>\n",
       "      <td>1</td>\n",
       "    </tr>\n",
       "    <tr>\n",
       "      <th>2</th>\n",
       "      <td>75</td>\n",
       "      <td>0.06</td>\n",
       "      <td>4.50</td>\n",
       "      <td>9.6</td>\n",
       "      <td>-1</td>\n",
       "      <td>1</td>\n",
       "      <td>-1</td>\n",
       "    </tr>\n",
       "    <tr>\n",
       "      <th>1</th>\n",
       "      <td>125</td>\n",
       "      <td>0.03</td>\n",
       "      <td>3.75</td>\n",
       "      <td>6.4</td>\n",
       "      <td>1</td>\n",
       "      <td>-1</td>\n",
       "      <td>-1</td>\n",
       "    </tr>\n",
       "    <tr>\n",
       "      <th>3</th>\n",
       "      <td>125</td>\n",
       "      <td>0.06</td>\n",
       "      <td>7.50</td>\n",
       "      <td>8.3</td>\n",
       "      <td>1</td>\n",
       "      <td>1</td>\n",
       "      <td>1</td>\n",
       "    </tr>\n",
       "  </tbody>\n",
       "</table>\n",
       "</div>"
      ],
      "text/plain": [
       "   water  surfactant  water x surfactant  volume  water H/L  surfactant H/L  \\\n",
       "0     75        0.03                2.25     7.5         -1              -1   \n",
       "2     75        0.06                4.50     9.6         -1               1   \n",
       "1    125        0.03                3.75     6.4          1              -1   \n",
       "3    125        0.06                7.50     8.3          1               1   \n",
       "\n",
       "   water x surfactant H/L  \n",
       "0                       1  \n",
       "2                      -1  \n",
       "1                      -1  \n",
       "3                       1  "
      ]
     },
     "execution_count": 40,
     "metadata": {},
     "output_type": "execute_result"
    }
   ],
   "source": [
    "#encode treatment design\n",
    "df['water H/L'] = df.water.apply(lambda x: -1 if x == 75 else 1)\n",
    "df['surfactant H/L'] = df.surfactant.apply(lambda x: -1 if x == .03 else 1)\n",
    "df['water x surfactant H/L'] = df['water H/L'] * df['surfactant H/L'] \n",
    "df"
   ]
  },
  {
   "cell_type": "code",
   "execution_count": 45,
   "id": "1f713839",
   "metadata": {},
   "outputs": [
    {
     "name": "stdout",
     "output_type": "stream",
     "text": [
      "Water effect size is -1.200 \n",
      "Surfactant effect is 2.000\n",
      "Interaction effect is -0.100\n"
     ]
    }
   ],
   "source": [
    "water_effect = sum(df['volume'] * df['water H/L'])/2\n",
    "surfactant_effect = sum(df['volume'] * df['surfactant H/L'])/2\n",
    "water_x_surf_effect = sum(df['volume'] * df['water x surfactant H/L'])/2\n",
    "print(f\"Water effect size is {water_effect:.03f} \\nSurfactant effect is {surfactant_effect:.03f}\\nInteraction effect is {water_x_surf_effect:.03f}\")"
   ]
  }
 ],
 "metadata": {
  "kernelspec": {
   "display_name": "Python 3 (ipykernel)",
   "language": "python",
   "name": "python3"
  },
  "language_info": {
   "codemirror_mode": {
    "name": "ipython",
    "version": 3
   },
   "file_extension": ".py",
   "mimetype": "text/x-python",
   "name": "python",
   "nbconvert_exporter": "python",
   "pygments_lexer": "ipython3",
   "version": "3.8.15"
  }
 },
 "nbformat": 4,
 "nbformat_minor": 5
}
